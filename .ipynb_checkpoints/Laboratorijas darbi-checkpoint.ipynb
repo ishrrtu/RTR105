{
 "cells": [
  {
   "cell_type": "code",
   "execution_count": 1,
   "metadata": {},
   "outputs": [
    {
     "name": "stdout",
     "output_type": "stream",
     "text": [
      "Sinh aprekinasana\n",
      "ievadi argumentu (x): 3\n",
      "sin(3.00) =  10.02\n",
      " \n",
      "a0 =   1.50 S0 =   1.50\n",
      "a499 =   0.00 S499 =   2.13\n",
      "a500 =   0.00 S500 =   2.13\n",
      "mans sinh(3.00) =   2.13\n",
      " \n",
      "           500\n",
      "          _____\n",
      "          \\           2*k+1\n",
      "           \\         x\n",
      "sinh(x/2) = >   _______________\n",
      "           /              2*k+1\n",
      "          /____ (2*k+1)!*2\n",
      "           k=0\n",
      "                               2\n",
      "                              x \n",
      "rekurences reizinatajs: ______________\n",
      "                                     2\n",
      "                        2*k*(2*k+1)*2\n"
     ]
    }
   ],
   "source": [
    "# -*- coding: utf-8 -*-\n",
    "from math import sinh\n",
    "def mans_sinuss(x):\n",
    " k = 0\n",
    " a = x/2\n",
    " S = a\n",
    " print(\" \")\n",
    " print(\"a0 = %6.2f S0 = %6.2f\"%(a,S))\n",
    " while k<499:\n",
    "  k = k +1\n",
    "  R = (x**2)/(2*k*(2*k+1)*2**2)\n",
    "  a = a * R\n",
    "  S = S + a\n",
    " print(\"a%d = %6.2f S%d = %6.2f\"%(k,a,k,S))\n",
    " k = k + 1\n",
    " R = (x**2)/(2*k*(2*k+1)*2**2)\n",
    " a = a * R\n",
    " S = S + a\n",
    " print(\"a%d = %6.2f S%d = %6.2f\"%(k,a,k,S))\n",
    " return S\n",
    "print(\"Sinh aprekinasana\")\n",
    "x = float(input(\"ievadi argumentu (x): \"))\n",
    "y = sinh(x)\n",
    "print(\"sin(%.2f) = %6.2f\"%(x,y))\n",
    "yy = mans_sinuss(x)\n",
    "print(\"mans sinh(%.2f) = %6.2f\"%(x,yy))\n",
    "print(\" \")\n",
    "\n",
    "print(\"           500\")\n",
    "print(\"          _____\")\n",
    "print(\"          \\           2*k+1\")\n",
    "print(\"           \\         x\")\n",
    "print(\"sinh(x/2) = >   _______________\")\n",
    "print(\"           /              2*k+1\")\n",
    "print(\"          /____ (2*k+1)!*2\")\n",
    "print(\"           k=0\")\n",
    "\n",
    "print(\"                               2\")\n",
    "print(\"                              x \")\n",
    "print(\"rekurences reizinatajs: ______________\")\n",
    "print(\"                                     2\")\n",
    "print(\"                        2*k*(2*k+1)*2\")"
   ]
  },
  {
   "cell_type": "code",
   "execution_count": null,
   "metadata": {},
   "outputs": [],
   "source": []
  }
 ],
 "metadata": {
  "kernelspec": {
   "display_name": "Python 2",
   "language": "python",
   "name": "python2"
  },
  "language_info": {
   "codemirror_mode": {
    "name": "ipython",
    "version": 2
   },
   "file_extension": ".py",
   "mimetype": "text/x-python",
   "name": "python",
   "nbconvert_exporter": "python",
   "pygments_lexer": "ipython2",
   "version": "2.7.12"
  }
 },
 "nbformat": 4,
 "nbformat_minor": 2
}
